{
 "cells": [
  {
   "cell_type": "markdown",
   "id": "420b3472",
   "metadata": {},
   "source": [
    "## Scraping the Information of Indian Politicians in different Cities"
   ]
  },
  {
   "cell_type": "markdown",
   "id": "2c84a6c4",
   "metadata": {},
   "source": [
    "## Project Outline :\n",
    "\n",
    "- Scrape \"https://en.wikipedia.org/wiki/Category:Indian_politicians_by_city_or_town\" \n",
    "- We'll be given a sub-category list based on alphabetical order and for each sub-category we'll be having further sub-category based on the cities\n",
    "- For Each City we'll further have list of all Politicians there and Also URLS where their information is given\n",
    "- For Each Politician we have to have to get the info : \n",
    "    - Born Date \n",
    "    - Death Date\n",
    "    - Image URL\n",
    "    - If any information is missing then use 0 in it's place\n",
    "- Finally the information has to stored in Excel Format\n"
   ]
  },
  {
   "cell_type": "markdown",
   "id": "93cd3626",
   "metadata": {},
   "source": [
    "## Getting the Web Page First"
   ]
  },
  {
   "cell_type": "code",
   "execution_count": 2,
   "id": "145e2c55",
   "metadata": {
    "scrolled": true
   },
   "outputs": [],
   "source": [
    "import requests"
   ]
  },
  {
   "cell_type": "code",
   "execution_count": 3,
   "id": "2c60228b",
   "metadata": {},
   "outputs": [],
   "source": [
    "main_URL=\"https://en.wikipedia.org/wiki/Category:Indian_politicians_by_city_or_town\""
   ]
  },
  {
   "cell_type": "code",
   "execution_count": 4,
   "id": "d3b049fc",
   "metadata": {},
   "outputs": [],
   "source": [
    "response=requests.get(main_URL)"
   ]
  },
  {
   "cell_type": "code",
   "execution_count": 5,
   "id": "ceb47130",
   "metadata": {},
   "outputs": [
    {
     "data": {
      "text/plain": [
       "200"
      ]
     },
     "execution_count": 5,
     "metadata": {},
     "output_type": "execute_result"
    }
   ],
   "source": [
    "# Response is successful\n",
    "response.status_code"
   ]
  },
  {
   "cell_type": "code",
   "execution_count": 6,
   "id": "c36b48ae",
   "metadata": {},
   "outputs": [],
   "source": [
    "page_content= response.text"
   ]
  },
  {
   "cell_type": "code",
   "execution_count": 7,
   "id": "f1580afd",
   "metadata": {},
   "outputs": [
    {
     "data": {
      "text/plain": [
       "'<!DOCTYPE html>\\n<html class=\"client-nojs\" lang=\"en\" dir=\"ltr\">\\n<head>\\n<meta charset=\"UTF-8\"/>\\n<title>Category:Indian politicians by city or town - Wikipedia</title>\\n<script>document.documentElement.className=\"client-js\";RLCONF={\"wgBreakFrames\":false,\"wgSeparatorTransformTable\":[\"\",\"\"],\"wgDigitTransformTable\":[\"\",\"\"],\"wgDefaultDateFormat\":\"dmy\",\"wgMonthNames\":[\"\",\"January\",\"February\",\"March\",\"April\",\"May\",\"June\",\"July\",\"August\",\"September\",\"October\",\"November\",\"December\"],\"wgRequestId\":\"b0c45d07-9b09-4945-a292-7e0da8b436c8\",\"wgCSPNonce\":false,\"wgCanonicalNamespace\":\"Category\",\"wgCanonicalSpecialPageName\":false,\"wgNamespaceNumber\":14,\"wgPageName\":\"Category:Indian_politicians_by_city_or_town\",\"wgTitle\":\"Indian politicians by city or town\",\"wgCurRevisionId\":811748416,\"wgRevisionId\":811748416,\"wgArticleId\":47585689,\"wgIsArticle\":true,\"wgIsRedirect\":false,\"wgAction\":\"view\",\"wgUserName\":null,\"wgUserGroups\":[\"*\"],\"wgCategories\":[\"Container categories\",\"Indian people by occupation and city\",\"In'"
      ]
     },
     "execution_count": 7,
     "metadata": {},
     "output_type": "execute_result"
    }
   ],
   "source": [
    "# Page Content is in HTML Format\n",
    "page_content[:1000]"
   ]
  },
  {
   "cell_type": "code",
   "execution_count": 21,
   "id": "fc2a5dfa",
   "metadata": {},
   "outputs": [],
   "source": [
    "file=open('Indian Politicians by cities WebPage.html','w')\n",
    "file.write(str(page_content.encode(\"utf-8\")))\n",
    "file.close()"
   ]
  },
  {
   "cell_type": "markdown",
   "id": "49adfabe",
   "metadata": {},
   "source": [
    "## Using Beautiful Soup To Parse and extract the information"
   ]
  },
  {
   "cell_type": "code",
   "execution_count": 8,
   "id": "f31bf7b5",
   "metadata": {},
   "outputs": [],
   "source": [
    "from bs4 import BeautifulSoup"
   ]
  },
  {
   "cell_type": "code",
   "execution_count": 9,
   "id": "252dc72d",
   "metadata": {},
   "outputs": [],
   "source": [
    "doc = BeautifulSoup(page_content, 'html.parser')"
   ]
  },
  {
   "cell_type": "code",
   "execution_count": 10,
   "id": "2f7aa4d3",
   "metadata": {},
   "outputs": [],
   "source": [
    "a_tags=doc.select('div.CategoryTreeItem a')"
   ]
  },
  {
   "cell_type": "code",
   "execution_count": 11,
   "id": "f9fc9fe2",
   "metadata": {},
   "outputs": [
    {
     "data": {
      "text/plain": [
       "50"
      ]
     },
     "execution_count": 11,
     "metadata": {},
     "output_type": "execute_result"
    }
   ],
   "source": [
    "len(a_tags)"
   ]
  },
  {
   "cell_type": "code",
   "execution_count": 12,
   "id": "3618f529",
   "metadata": {},
   "outputs": [],
   "source": [
    "# list of some anchor tags found\n",
    "a_tags=a_tags[3:]"
   ]
  },
  {
   "cell_type": "code",
   "execution_count": 13,
   "id": "1f4e6412",
   "metadata": {},
   "outputs": [
    {
     "name": "stdout",
     "output_type": "stream",
     "text": [
      "1 /wiki/Category:Politicians_from_Ahmedabad\n",
      "2 /wiki/Category:Politicians_from_Alappuzha\n",
      "3 /wiki/Category:Politicians_from_Amritsar\n",
      "4 /wiki/Category:Politicians_from_Bangalore\n",
      "5 /wiki/Category:Politicians_from_Bhopal\n",
      "6 /wiki/Category:Politicians_from_Bhubaneswar\n",
      "7 /wiki/Category:Chandigarh_politicians\n",
      "8 /wiki/Category:Politicians_from_Chennai\n",
      "9 /wiki/Category:Politicians_from_Coimbatore\n",
      "10 /wiki/Category:Politicians_from_Dehradun\n"
     ]
    }
   ],
   "source": [
    "# Urls of some sub-categories found\n",
    "for i in range(10):\n",
    "    print(i+1,a_tags[i]['href'])"
   ]
  },
  {
   "cell_type": "code",
   "execution_count": 14,
   "id": "077d06af",
   "metadata": {},
   "outputs": [],
   "source": [
    "subCategory_URLS=[]\n",
    "for i in range(len(a_tags)):\n",
    "    subCategory_URLS.append('https://en.wikipedia.org'+(a_tags[i]['href']))"
   ]
  },
  {
   "cell_type": "code",
   "execution_count": 15,
   "id": "09cd94f3",
   "metadata": {},
   "outputs": [
    {
     "data": {
      "text/plain": [
       "'https://en.wikipedia.org/wiki/Category:Politicians_from_Ahmedabad'"
      ]
     },
     "execution_count": 15,
     "metadata": {},
     "output_type": "execute_result"
    }
   ],
   "source": [
    "# Final URLS will Look like :-\n",
    "subCategory_URLS[0]"
   ]
  },
  {
   "cell_type": "code",
   "execution_count": 16,
   "id": "d74fcd18",
   "metadata": {},
   "outputs": [],
   "source": [
    "subCategory_titles=[]\n",
    "for i in range(len(a_tags)):\n",
    "    subCategory_titles.append(a_tags[i].text)"
   ]
  },
  {
   "cell_type": "code",
   "execution_count": 17,
   "id": "ea0c8900",
   "metadata": {},
   "outputs": [
    {
     "data": {
      "text/plain": [
       "'Politicians from Ahmedabad'"
      ]
     },
     "execution_count": 17,
     "metadata": {},
     "output_type": "execute_result"
    }
   ],
   "source": [
    "subCategory_titles[0]"
   ]
  },
  {
   "cell_type": "code",
   "execution_count": 18,
   "id": "05990017",
   "metadata": {},
   "outputs": [],
   "source": [
    "dict={'Titles':subCategory_titles,'URLS':subCategory_URLS}"
   ]
  },
  {
   "cell_type": "code",
   "execution_count": 19,
   "id": "eb872603",
   "metadata": {},
   "outputs": [],
   "source": [
    "import pandas as pd"
   ]
  },
  {
   "cell_type": "code",
   "execution_count": 20,
   "id": "faa2c6ba",
   "metadata": {},
   "outputs": [],
   "source": [
    "df=pd.DataFrame(dict)"
   ]
  },
  {
   "cell_type": "code",
   "execution_count": 21,
   "id": "807a8afd",
   "metadata": {},
   "outputs": [
    {
     "data": {
      "text/html": [
       "<div>\n",
       "<style scoped>\n",
       "    .dataframe tbody tr th:only-of-type {\n",
       "        vertical-align: middle;\n",
       "    }\n",
       "\n",
       "    .dataframe tbody tr th {\n",
       "        vertical-align: top;\n",
       "    }\n",
       "\n",
       "    .dataframe thead th {\n",
       "        text-align: right;\n",
       "    }\n",
       "</style>\n",
       "<table border=\"1\" class=\"dataframe\">\n",
       "  <thead>\n",
       "    <tr style=\"text-align: right;\">\n",
       "      <th></th>\n",
       "      <th>Titles</th>\n",
       "      <th>URLS</th>\n",
       "    </tr>\n",
       "  </thead>\n",
       "  <tbody>\n",
       "    <tr>\n",
       "      <th>0</th>\n",
       "      <td>Politicians from Ahmedabad</td>\n",
       "      <td>https://en.wikipedia.org/wiki/Category:Politic...</td>\n",
       "    </tr>\n",
       "    <tr>\n",
       "      <th>1</th>\n",
       "      <td>Politicians from Alappuzha</td>\n",
       "      <td>https://en.wikipedia.org/wiki/Category:Politic...</td>\n",
       "    </tr>\n",
       "    <tr>\n",
       "      <th>2</th>\n",
       "      <td>Politicians from Amritsar</td>\n",
       "      <td>https://en.wikipedia.org/wiki/Category:Politic...</td>\n",
       "    </tr>\n",
       "    <tr>\n",
       "      <th>3</th>\n",
       "      <td>Politicians from Bangalore</td>\n",
       "      <td>https://en.wikipedia.org/wiki/Category:Politic...</td>\n",
       "    </tr>\n",
       "    <tr>\n",
       "      <th>4</th>\n",
       "      <td>Politicians from Bhopal</td>\n",
       "      <td>https://en.wikipedia.org/wiki/Category:Politic...</td>\n",
       "    </tr>\n",
       "  </tbody>\n",
       "</table>\n",
       "</div>"
      ],
      "text/plain": [
       "                       Titles  \\\n",
       "0  Politicians from Ahmedabad   \n",
       "1  Politicians from Alappuzha   \n",
       "2   Politicians from Amritsar   \n",
       "3  Politicians from Bangalore   \n",
       "4     Politicians from Bhopal   \n",
       "\n",
       "                                                URLS  \n",
       "0  https://en.wikipedia.org/wiki/Category:Politic...  \n",
       "1  https://en.wikipedia.org/wiki/Category:Politic...  \n",
       "2  https://en.wikipedia.org/wiki/Category:Politic...  \n",
       "3  https://en.wikipedia.org/wiki/Category:Politic...  \n",
       "4  https://en.wikipedia.org/wiki/Category:Politic...  "
      ]
     },
     "execution_count": 21,
     "metadata": {},
     "output_type": "execute_result"
    }
   ],
   "source": [
    "df.head()"
   ]
  },
  {
   "cell_type": "code",
   "execution_count": 23,
   "id": "0f997298",
   "metadata": {},
   "outputs": [],
   "source": [
    "df.to_excel('Sub-Categories Urls.xlsx')"
   ]
  },
  {
   "cell_type": "markdown",
   "id": "cca6eb42",
   "metadata": {},
   "source": [
    "## Excel File consisting of Urls of every Sub-Category Is created."
   ]
  },
  {
   "cell_type": "markdown",
   "id": "0f26cedb",
   "metadata": {},
   "source": [
    "## Moving on to Extract further Urls present whithin these Sub-Categories"
   ]
  },
  {
   "cell_type": "code",
   "execution_count": 658,
   "id": "42adc189",
   "metadata": {},
   "outputs": [
    {
     "data": {
      "text/plain": [
       "'https://en.wikipedia.org/wiki/Category:Politicians_from_Ahmedabad'"
      ]
     },
     "execution_count": 658,
     "metadata": {},
     "output_type": "execute_result"
    }
   ],
   "source": [
    "sub_url=subCategory_URLS[0]\n",
    "sub_url"
   ]
  },
  {
   "cell_type": "code",
   "execution_count": 659,
   "id": "4bc80b09",
   "metadata": {},
   "outputs": [],
   "source": [
    "res=requests.get(sub_url)"
   ]
  },
  {
   "cell_type": "code",
   "execution_count": 660,
   "id": "ce3ebe2a",
   "metadata": {},
   "outputs": [
    {
     "data": {
      "text/plain": [
       "200"
      ]
     },
     "execution_count": 660,
     "metadata": {},
     "output_type": "execute_result"
    }
   ],
   "source": [
    "res.status_code"
   ]
  },
  {
   "cell_type": "code",
   "execution_count": 661,
   "id": "7c53cfd0",
   "metadata": {},
   "outputs": [],
   "source": [
    "sub_doc=BeautifulSoup(res.text,'html.parser')"
   ]
  },
  {
   "cell_type": "code",
   "execution_count": 662,
   "id": "937e8eab",
   "metadata": {},
   "outputs": [],
   "source": [
    "sub_a_tags=[]\n",
    "for groups in sub_doc.find_all('div',{'class':'mw-category mw-category-columns'}):\n",
    "    sub_a_tags=groups.find_all('a')"
   ]
  },
  {
   "cell_type": "code",
   "execution_count": 663,
   "id": "8a954a19",
   "metadata": {},
   "outputs": [
    {
     "data": {
      "text/plain": [
       "28"
      ]
     },
     "execution_count": 663,
     "metadata": {},
     "output_type": "execute_result"
    }
   ],
   "source": [
    "len(sub_a_tags)"
   ]
  },
  {
   "cell_type": "code",
   "execution_count": 669,
   "id": "121a79ba",
   "metadata": {},
   "outputs": [
    {
     "data": {
      "text/plain": [
       "[<a href=\"/wiki/Violet_Alva\" title=\"Violet Alva\">Violet Alva</a>,\n",
       " <a href=\"/wiki/Narhari_Amin\" title=\"Narhari Amin\">Narhari Amin</a>,\n",
       " <a href=\"/wiki/Navin_Chandra_Barot\" title=\"Navin Chandra Barot\">Navin Chandra Barot</a>,\n",
       " <a href=\"/wiki/Ashok_Bhatt\" title=\"Ashok Bhatt\">Ashok Bhatt</a>,\n",
       " <a href=\"/wiki/Brahmkumar_Bhatt\" title=\"Brahmkumar Bhatt\">Brahmkumar Bhatt</a>]"
      ]
     },
     "execution_count": 669,
     "metadata": {},
     "output_type": "execute_result"
    }
   ],
   "source": [
    "# list of all Politician in a specific city\n",
    "sub_a_tags[:5]"
   ]
  },
  {
   "cell_type": "code",
   "execution_count": 665,
   "id": "26a5f4a7",
   "metadata": {},
   "outputs": [],
   "source": [
    "politicians_URL=[]\n",
    "for a in sub_a_tags:\n",
    "    politicians_URL.append(\"https://en.wikipedia.org\"+a['href'])"
   ]
  },
  {
   "cell_type": "code",
   "execution_count": 666,
   "id": "f93c158b",
   "metadata": {},
   "outputs": [
    {
     "data": {
      "text/plain": [
       "['https://en.wikipedia.org/wiki/Violet_Alva',\n",
       " 'https://en.wikipedia.org/wiki/Narhari_Amin',\n",
       " 'https://en.wikipedia.org/wiki/Navin_Chandra_Barot',\n",
       " 'https://en.wikipedia.org/wiki/Ashok_Bhatt',\n",
       " 'https://en.wikipedia.org/wiki/Brahmkumar_Bhatt',\n",
       " 'https://en.wikipedia.org/wiki/I._I._Chundrigar',\n",
       " 'https://en.wikipedia.org/wiki/Kantilal_Ghia',\n",
       " 'https://en.wikipedia.org/wiki/Harihar_Khambholja',\n",
       " 'https://en.wikipedia.org/wiki/Purushottam_Mavalankar',\n",
       " 'https://en.wikipedia.org/wiki/Sushila_Ganesh_Mavalankar',\n",
       " 'https://en.wikipedia.org/wiki/Chhabildas_Mehta',\n",
       " 'https://en.wikipedia.org/wiki/Dilip_Parikh',\n",
       " 'https://en.wikipedia.org/wiki/Babubhai_Patel_(politician)',\n",
       " 'https://en.wikipedia.org/wiki/Bhupendrabhai_Patel',\n",
       " 'https://en.wikipedia.org/wiki/Kamlesh_Patel_(politician)',\n",
       " 'https://en.wikipedia.org/wiki/Siddharth_Patel',\n",
       " 'https://en.wikipedia.org/wiki/Suresh_Patel',\n",
       " 'https://en.wikipedia.org/wiki/Vijay_Patel_(politician)',\n",
       " 'https://en.wikipedia.org/wiki/Harin_Pathak',\n",
       " 'https://en.wikipedia.org/wiki/Anasuya_Sarabhai',\n",
       " 'https://en.wikipedia.org/wiki/Amit_Shah',\n",
       " 'https://en.wikipedia.org/wiki/Badruddin_Shaikh',\n",
       " 'https://en.wikipedia.org/wiki/Indumati_Chimanlal_Sheth',\n",
       " 'https://en.wikipedia.org/wiki/Gabhaji_Thakor',\n",
       " 'https://en.wikipedia.org/wiki/Darshna_Vaghela',\n",
       " 'https://en.wikipedia.org/wiki/Dinesh_Vaghela',\n",
       " 'https://en.wikipedia.org/wiki/Raoof_Valiullah',\n",
       " 'https://en.wikipedia.org/wiki/Gordhan_Zadafia']"
      ]
     },
     "execution_count": 666,
     "metadata": {},
     "output_type": "execute_result"
    }
   ],
   "source": [
    "politicians_URL"
   ]
  },
  {
   "cell_type": "code",
   "execution_count": 667,
   "id": "350a3572",
   "metadata": {},
   "outputs": [
    {
     "data": {
      "text/plain": [
       "'https://en.wikipedia.org/wiki/Gabhaji_Thakor'"
      ]
     },
     "execution_count": 667,
     "metadata": {},
     "output_type": "execute_result"
    }
   ],
   "source": [
    "politician_url=politician_URL[23]\n",
    "politician_url"
   ]
  },
  {
   "cell_type": "markdown",
   "id": "119993b4",
   "metadata": {},
   "source": [
    "## Now Extracting Info of Every Politician"
   ]
  },
  {
   "cell_type": "code",
   "execution_count": 24,
   "id": "aebdbe69",
   "metadata": {},
   "outputs": [],
   "source": [
    "def get_politician_info(politician_url):\n",
    "    \n",
    "    res=requests.get(politician_url)\n",
    "    #print(\"Url Status Code :\",res.status_code)\n",
    "    \n",
    "    politician_doc=BeautifulSoup(res.text,'html.parser')\n",
    "    \n",
    "    # Name Of the Politician\n",
    "    name_start_index=len(politician_url)-politician_url[::-1].find('/')\n",
    "    name=politician_url[name_start_index:]\n",
    "    \n",
    "    # Image URL\n",
    "    base_url='https://en.wikipedia.org'\n",
    "    image_Url=politician_doc.select('td.infobox-image a')\n",
    "\n",
    "    if len(image_Url)==0:\n",
    "        image_Url=0\n",
    "    else:\n",
    "        image_Url=base_url+image_Url[0]['href']\n",
    "    \n",
    "    labelsClass=politician_doc.find_all('th',{'class':'infobox-label'})\n",
    "    \n",
    "    \n",
    "    # BirthDate\n",
    "    \n",
    "    birthdate=politician_doc.select('span.bday')\n",
    "    \n",
    "    if len(birthdate)==0:\n",
    "        birthdate=None\n",
    "    else:\n",
    "        birthdate=birthdate[0].text\n",
    "    \n",
    "    if birthdate==None:\n",
    "        birthStatus=politician_doc.find('th',{'class':'infobox-label'},text='Born')\n",
    "    else:\n",
    "        birthStatus=None\n",
    "        \n",
    "    birth_index=None\n",
    "    if birthStatus!=None:\n",
    "        birth_index=labelsClass.index(birthStatus)\n",
    "        dataClass=politician_doc.find_all('td',{'class':'infobox-data'})\n",
    "    \n",
    "        birthdate=0\n",
    "        if birth_index!=None:\n",
    "            birthdate=dataClass[birth_index].text\n",
    "    \n",
    "    if birthdate==None:\n",
    "        birthdate=0\n",
    "       \n",
    "    \n",
    "    # To Find death Date\n",
    "    deathStatus=politician_doc.find('th',{'class':'infobox-label'},text='Died')\n",
    "    \n",
    "    death_index=None\n",
    "    if deathStatus!=None:\n",
    "        death_index=labelsClass.index(deathStatus)\n",
    "    \n",
    "    dataClass=politician_doc.find_all('td',{'class':'infobox-data'})\n",
    "    \n",
    "    deathdate=0\n",
    "    if death_index!=None:\n",
    "        try:\n",
    "            first_bracket_index=dataClass[death_index].text.index('(')\n",
    "        except ValueError:\n",
    "           first_bracket_index=-1\n",
    "    \n",
    "        if first_bracket_index!=-1:\n",
    "            second_bracket_index=dataClass[death_index].text[first_bracket_index:].index(')')\n",
    "        else:\n",
    "            second_bracket_index=-1\n",
    "    \n",
    "        if second_bracket_index!=-1:\n",
    "            deathdate=dataClass[death_index].text[first_bracket_index+1:first_bracket_index+second_bracket_index]\n",
    "        else:\n",
    "            deathdate=dataClass[death_index].text\n",
    "        \n",
    "    return {\"Name\" : name,\"Birth Date\":birthdate,\"Death Date\":deathdate,\"Image URL\":image_Url}"
   ]
  },
  {
   "cell_type": "code",
   "execution_count": 567,
   "id": "8d8278fa",
   "metadata": {},
   "outputs": [
    {
     "data": {
      "text/plain": [
       "{'Name': 'Gabhaji_Thakor',\n",
       " 'Birth Date': '15 June 1933Amdavad (Gujarat)',\n",
       " 'Death Date': '2 January 2017',\n",
       " 'Image URL': 0}"
      ]
     },
     "execution_count": 567,
     "metadata": {},
     "output_type": "execute_result"
    }
   ],
   "source": [
    "get_politician_info(politician_url)"
   ]
  },
  {
   "cell_type": "code",
   "execution_count": 568,
   "id": "d708a026",
   "metadata": {},
   "outputs": [],
   "source": [
    "politician_info_dict={\n",
    "    \"Name\":[],\n",
    "    \"Birth Date\":[],\n",
    "    \"Death Date\":[],\n",
    "    \"Image URL\":[]\n",
    "}\n",
    "\n",
    "for i in range(len(politicians_URL)):\n",
    "    info=get_politician_info(politicians_URL[i])\n",
    "    politician_info_dict['Name'].append(info['Name'])\n",
    "    politician_info_dict['Birth Date'].append(info['Birth Date'])\n",
    "    politician_info_dict['Death Date'].append(info['Death Date'])\n",
    "    politician_info_dict['Image URL'].append(info['Image URL'])"
   ]
  },
  {
   "cell_type": "code",
   "execution_count": 580,
   "id": "2da06369",
   "metadata": {},
   "outputs": [
    {
     "data": {
      "text/html": [
       "<div>\n",
       "<style scoped>\n",
       "    .dataframe tbody tr th:only-of-type {\n",
       "        vertical-align: middle;\n",
       "    }\n",
       "\n",
       "    .dataframe tbody tr th {\n",
       "        vertical-align: top;\n",
       "    }\n",
       "\n",
       "    .dataframe thead th {\n",
       "        text-align: right;\n",
       "    }\n",
       "</style>\n",
       "<table border=\"1\" class=\"dataframe\">\n",
       "  <thead>\n",
       "    <tr style=\"text-align: right;\">\n",
       "      <th></th>\n",
       "      <th>Name</th>\n",
       "      <th>Birth Date</th>\n",
       "      <th>Death Date</th>\n",
       "      <th>Image URL</th>\n",
       "    </tr>\n",
       "  </thead>\n",
       "  <tbody>\n",
       "    <tr>\n",
       "      <th>0</th>\n",
       "      <td>Violet_Alva</td>\n",
       "      <td>1908-04-24</td>\n",
       "      <td>1969-11-20</td>\n",
       "      <td>https://en.wikipedia.org/wiki/File:Joachim_and...</td>\n",
       "    </tr>\n",
       "    <tr>\n",
       "      <th>1</th>\n",
       "      <td>Narhari_Amin</td>\n",
       "      <td>1955-06-05</td>\n",
       "      <td>0</td>\n",
       "      <td>https://en.wikipedia.org/wiki/File:Narhari_Ami...</td>\n",
       "    </tr>\n",
       "    <tr>\n",
       "      <th>2</th>\n",
       "      <td>Navin_Chandra_Barot</td>\n",
       "      <td>0</td>\n",
       "      <td>0</td>\n",
       "      <td>0</td>\n",
       "    </tr>\n",
       "    <tr>\n",
       "      <th>3</th>\n",
       "      <td>Ashok_Bhatt</td>\n",
       "      <td>1939-01-28</td>\n",
       "      <td>2010-09-29</td>\n",
       "      <td>0</td>\n",
       "    </tr>\n",
       "    <tr>\n",
       "      <th>4</th>\n",
       "      <td>Brahmkumar_Bhatt</td>\n",
       "      <td>1921-10-08</td>\n",
       "      <td>2009-01-06</td>\n",
       "      <td>0</td>\n",
       "    </tr>\n",
       "  </tbody>\n",
       "</table>\n",
       "</div>"
      ],
      "text/plain": [
       "                  Name  Birth Date  Death Date  \\\n",
       "0          Violet_Alva  1908-04-24  1969-11-20   \n",
       "1         Narhari_Amin  1955-06-05           0   \n",
       "2  Navin_Chandra_Barot           0           0   \n",
       "3          Ashok_Bhatt  1939-01-28  2010-09-29   \n",
       "4     Brahmkumar_Bhatt  1921-10-08  2009-01-06   \n",
       "\n",
       "                                           Image URL  \n",
       "0  https://en.wikipedia.org/wiki/File:Joachim_and...  \n",
       "1  https://en.wikipedia.org/wiki/File:Narhari_Ami...  \n",
       "2                                                  0  \n",
       "3                                                  0  \n",
       "4                                                  0  "
      ]
     },
     "execution_count": 580,
     "metadata": {},
     "output_type": "execute_result"
    }
   ],
   "source": [
    "politician_info_df=pd.DataFrame(politician_info_dict)\n",
    "politician_info_df"
   ]
  },
  {
   "cell_type": "markdown",
   "id": "4a4e480c",
   "metadata": {},
   "source": [
    "## Finally we can convert the data obtained to excel Files for Each City "
   ]
  },
  {
   "cell_type": "code",
   "execution_count": 38,
   "id": "80ca7340",
   "metadata": {},
   "outputs": [],
   "source": [
    "def generate_excel_Files(subCategoryTitles,subCategoryURLS):\n",
    "    \n",
    "    for i in range(len(subCategoryURLS)):\n",
    "        print(i,') Working on File :',subCategory_titles[i])\n",
    "        sub_url=subCategory_URLS[i]\n",
    "        res=requests.get(sub_url)\n",
    "        sub_doc=BeautifulSoup(res.text,'html.parser')\n",
    "        sub_a_tags=[]\n",
    "        for groups in sub_doc.find_all('div',{'class':'mw-category mw-category-columns'}):\n",
    "            sub_a_tags=groups.find_all('a')\n",
    "        politicians_URL=[]\n",
    "        \n",
    "        for a in sub_a_tags:\n",
    "            politicians_URL.append(\"https://en.wikipedia.org\"+a['href'])\n",
    "        \n",
    "        politician_info_dict={\n",
    "        \"Name\":[],\n",
    "        \"Birth Date\":[],\n",
    "        \"Death Date\":[],\n",
    "        \"Image URL\":[]\n",
    "        }\n",
    "        \n",
    "        for j in range(len(politicians_URL)):\n",
    "            politician_url=politicians_URL[j]\n",
    "            info=get_politician_info(politician_url)\n",
    "            politician_info_dict['Name'].append(info['Name'])\n",
    "            politician_info_dict['Birth Date'].append(info['Birth Date'])\n",
    "            politician_info_dict['Death Date'].append(info['Death Date'])\n",
    "            politician_info_dict['Image URL'].append(info['Image URL'])\n",
    "        \n",
    "        politician_info_df=pd.DataFrame(politician_info_dict)\n",
    "            \n",
    "        fileName=subCategoryTitles[i]+\".xlsx\"\n",
    "        politician_info_df.to_excel(fileName)"
   ]
  },
  {
   "cell_type": "code",
   "execution_count": 39,
   "id": "28d8cb08",
   "metadata": {},
   "outputs": [
    {
     "name": "stdout",
     "output_type": "stream",
     "text": [
      "0 ) Working on File : Politicians from Ahmedabad\n",
      "1 ) Working on File : Politicians from Alappuzha\n",
      "2 ) Working on File : Politicians from Amritsar\n",
      "3 ) Working on File : Politicians from Bangalore\n",
      "4 ) Working on File : Politicians from Bhopal\n",
      "5 ) Working on File : Politicians from Bhubaneswar\n",
      "6 ) Working on File : Chandigarh politicians\n",
      "7 ) Working on File : Politicians from Chennai\n",
      "8 ) Working on File : Politicians from Coimbatore\n",
      "9 ) Working on File : Politicians from Dehradun\n",
      "10 ) Working on File : Delhi politicians\n",
      "11 ) Working on File : Politicians from Faridabad\n",
      "12 ) Working on File : Politicians from Guwahati\n",
      "13 ) Working on File : Politicians from Hyderabad, India\n",
      "14 ) Working on File : Politicians from Indore\n",
      "15 ) Working on File : Politicians from Jaipur\n",
      "16 ) Working on File : Politicians from Jammu\n",
      "17 ) Working on File : Politicians from Kannur\n",
      "18 ) Working on File : Politicians from Kochi\n",
      "19 ) Working on File : Politicians from Kolkata\n",
      "20 ) Working on File : Politicians from Kollam\n",
      "21 ) Working on File : Politicians from Kottayam\n",
      "22 ) Working on File : Politicians from Kozhikode\n",
      "23 ) Working on File : Politicians from Ludhiana\n",
      "24 ) Working on File : Politicians from Madurai\n",
      "25 ) Working on File : Politicians from Mangalore\n",
      "26 ) Working on File : Politicians from Mumbai\n",
      "27 ) Working on File : Politicians from Mysore\n",
      "28 ) Working on File : Politicians from Nagpur\n",
      "29 ) Working on File : Politicians from Palakkad\n",
      "30 ) Working on File : Politicians from Palakollu\n",
      "31 ) Working on File : Politicians from Patna\n",
      "32 ) Working on File : Politicians from Pune\n",
      "33 ) Working on File : Politicians from Raipur\n",
      "34 ) Working on File : Politicians from Rajahmundry\n",
      "35 ) Working on File : Politicians from Ranchi\n",
      "36 ) Working on File : Politicians from Secunderabad\n",
      "37 ) Working on File : Politicians from Srinagar\n",
      "38 ) Working on File : Politicians from Surat\n",
      "39 ) Working on File : Politicians from Thane\n",
      "40 ) Working on File : Politicians from Thiruvananthapuram\n",
      "41 ) Working on File : Politicians from Thrissur\n",
      "42 ) Working on File : Politicians from Tiruchirappalli\n",
      "43 ) Working on File : Politicians from Ujjain\n",
      "44 ) Working on File : Politicians from Udaipur\n",
      "45 ) Working on File : Politicians from Vijayawada\n",
      "46 ) Working on File : Politicians from Visakhapatnam\n"
     ]
    }
   ],
   "source": [
    "generate_excel_Files(subCategory_titles,subCategory_URLS)"
   ]
  },
  {
   "cell_type": "code",
   "execution_count": null,
   "id": "ec0a4cb2",
   "metadata": {},
   "outputs": [],
   "source": []
  },
  {
   "cell_type": "code",
   "execution_count": null,
   "id": "7221166b",
   "metadata": {},
   "outputs": [],
   "source": []
  },
  {
   "cell_type": "code",
   "execution_count": null,
   "id": "33fdd1c8",
   "metadata": {},
   "outputs": [],
   "source": []
  }
 ],
 "metadata": {
  "kernelspec": {
   "display_name": "Python 3",
   "language": "python",
   "name": "python3"
  },
  "language_info": {
   "codemirror_mode": {
    "name": "ipython",
    "version": 3
   },
   "file_extension": ".py",
   "mimetype": "text/x-python",
   "name": "python",
   "nbconvert_exporter": "python",
   "pygments_lexer": "ipython3",
   "version": "3.7.7"
  }
 },
 "nbformat": 4,
 "nbformat_minor": 5
}
